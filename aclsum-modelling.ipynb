{
 "cells": [
  {
   "cell_type": "markdown",
   "id": "a41748c2",
   "metadata": {},
   "source": [
    "# <b>ACLSum Text Summarizer - Data Training, Evaluation, and Modelling</b>\n",
    "GitHub Repository Full Project: https://github.com/StyNW7/NLP-Text-Summarizer\n",
    "<br>\n",
    "Dataset Source: https://huggingface.co/datasets/sobamchan/aclsum\n",
    "<br>\n",
    "Docs Documentation: https://docs.google.com/document/d/1qSS2kVPMKn032hhjPmrgMquIb6Q827EiowY9y0s_k3I/edit?usp=sharing\n",
    "<br><br>\n",
    "<b>Stanley Nathanael Wijaya - 2702217125</b>"
   ]
  },
  {
   "cell_type": "markdown",
   "id": "8f843bf3",
   "metadata": {},
   "source": [
    "## Task Description\n",
    "\n",
    "In the Natural Language Processing Project at BINUS University, I want to develop a Text Summarizer model and app using ACLSum Datasets.\n",
    "<br><br>\n",
    "Dataset:\n",
    "<br>\n",
    "https://huggingface.co/datasets/sobamchan/aclsum\n",
    "<br><br>\n",
    "To-do list in this Notebook:\n",
    "\n",
    "<br>\n",
    "Training and Evaluating\n",
    "<ul>\n",
    "    <li>Perform Training and record the model training result metrics</li>\n",
    "    <li>Compare the model you choose with at least 3 other models!</li>\n",
    "    <li>Conduct an evaluation using metrics according to the context of the topic</li>\n",
    "</ul>\n",
    "\n",
    "<br>\n",
    "Modelling\n",
    "<ul>\n",
    "    <li>Give reasons why you chose and used the model.</li>\n",
    "    <li>Provide an explanation of the architecture of the model you chose.</li>\n",
    "</ul>"
   ]
  }
 ],
 "metadata": {
  "language_info": {
   "name": "python"
  }
 },
 "nbformat": 4,
 "nbformat_minor": 5
}
